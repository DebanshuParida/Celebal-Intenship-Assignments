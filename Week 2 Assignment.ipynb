{
 "cells": [
  {
   "cell_type": "code",
   "execution_count": 1,
   "id": "25d127d8-dec2-45f8-8d27-2a3be990f82c",
   "metadata": {},
   "outputs": [
    {
     "name": "stdin",
     "output_type": "stream",
     "text": [
      "Enter the first number:  5\n",
      "Enter the second number:  6\n",
      "Choose an operation (+, -, *, /):  +\n"
     ]
    },
    {
     "name": "stdout",
     "output_type": "stream",
     "text": [
      "5.0 + 6.0 = 11.0\n"
     ]
    },
    {
     "name": "stdin",
     "output_type": "stream",
     "text": [
      "Do you want to perform another calculation? (yes/no):  yes\n",
      "Enter the first number:  5\n",
      "Enter the second number:  6\n",
      "Choose an operation (+, -, *, /):  -\n"
     ]
    },
    {
     "name": "stdout",
     "output_type": "stream",
     "text": [
      "5.0 - 6.0 = -1.0\n"
     ]
    },
    {
     "name": "stdin",
     "output_type": "stream",
     "text": [
      "Do you want to perform another calculation? (yes/no):  yes\n",
      "Enter the first number:  5\n",
      "Enter the second number:  6\n",
      "Choose an operation (+, -, *, /):  *\n"
     ]
    },
    {
     "name": "stdout",
     "output_type": "stream",
     "text": [
      "5.0 * 6.0 = 30.0\n"
     ]
    },
    {
     "name": "stdin",
     "output_type": "stream",
     "text": [
      "Do you want to perform another calculation? (yes/no):  yes\n",
      "Enter the first number:  5\n",
      "Enter the second number:  6\n",
      "Choose an operation (+, -, *, /):  /\n"
     ]
    },
    {
     "name": "stdout",
     "output_type": "stream",
     "text": [
      "5.0 / 6.0 = 0.8333333333333334\n"
     ]
    },
    {
     "name": "stdin",
     "output_type": "stream",
     "text": [
      "Do you want to perform another calculation? (yes/no):  no\n"
     ]
    },
    {
     "name": "stdout",
     "output_type": "stream",
     "text": [
      "Thank you for using the Simple Calculator!\n"
     ]
    }
   ],
   "source": [
    "def calculate(num1, num2, operator):\n",
    "\n",
    "  if operator == \"+\":\n",
    "    return add(num1, num2)\n",
    "  elif operator == \"-\":\n",
    "    return subtract(num1, num2)\n",
    "  elif operator == \"*\":\n",
    "    return multiply(num1, num2)\n",
    "  elif operator == \"/\":\n",
    "    return divide(num1, num2)\n",
    "  else:\n",
    "    print(\"Invalid operator. Please use +, -, *, or /.\")\n",
    "    return None\n",
    "\n",
    "def add(num1, num2):\n",
    "  return num1 + num2\n",
    "\n",
    "def subtract(num1, num2):\n",
    "    return num1 - num2\n",
    "\n",
    "def multiply(num1, num2):\n",
    "  return num1 * num2\n",
    "\n",
    "def divide(num1, num2):\n",
    "  if num2 == 0:\n",
    "    print(\"Error: Cannot divide by zero.\")\n",
    "    return None\n",
    "  return num1 / num2\n",
    "\n",
    "while True:\n",
    "  try:\n",
    "    num1 = float(input(\"Enter the first number: \"))\n",
    "    num2 = float(input(\"Enter the second number: \"))\n",
    "  except ValueError:\n",
    "    print(\"Invalid input. Please enter numbers only.\")\n",
    "    continue\n",
    "\n",
    "  operator = input(\"Choose an operation (+, -, *, /): \")\n",
    "  result = calculate(num1, num2, operator)\n",
    "  if result is not None:\n",
    "    print(f\"{num1} {operator} {num2} = {result}\")\n",
    "  choice = input(\"Do you want to perform another calculation? (yes/no): \").lower()\n",
    "  if choice != \"yes\":\n",
    "    break\n",
    "\n",
    "print(\"Thank you for using the Simple Calculator!\")\n"
   ]
  },
  {
   "cell_type": "code",
   "execution_count": null,
   "id": "a170b568-0d56-4acd-8ef0-e00f6203f9e0",
   "metadata": {},
   "outputs": [],
   "source": []
  }
 ],
 "metadata": {
  "kernelspec": {
   "display_name": "Python 3 (ipykernel)",
   "language": "python",
   "name": "python3"
  },
  "language_info": {
   "codemirror_mode": {
    "name": "ipython",
    "version": 3
   },
   "file_extension": ".py",
   "mimetype": "text/x-python",
   "name": "python",
   "nbconvert_exporter": "python",
   "pygments_lexer": "ipython3",
   "version": "3.11.7"
  }
 },
 "nbformat": 4,
 "nbformat_minor": 5
}
