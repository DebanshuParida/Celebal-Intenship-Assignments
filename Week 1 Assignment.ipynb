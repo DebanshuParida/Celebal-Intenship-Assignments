{
 "cells": [
  {
   "cell_type": "code",
   "execution_count": 1,
   "id": "e0f72881-c385-4056-b9ef-82eddf4457f4",
   "metadata": {},
   "outputs": [
    {
     "name": "stdout",
     "output_type": "stream",
     "text": [
      "Lower Triangular:\n",
      "* \n",
      "* * \n",
      "* * * \n",
      "* * * * \n",
      "* * * * * \n",
      "\n",
      "Upper Triangular:\n",
      "* * * * * \n",
      " * * * * \n",
      "  * * * \n",
      "   * * \n",
      "    * \n",
      "\n",
      "Pyramid:\n",
      "    * \n",
      "   * * * \n",
      "  * * * * * \n",
      " * * * * * * * \n",
      "* * * * * * * * * \n"
     ]
    }
   ],
   "source": [
    "def lower_triangular(n):\n",
    "    for i in range(1, n+1):\n",
    "        print('* ' * i)\n",
    "\n",
    "def upper_triangular(n):\n",
    "    for i in range(n, 0, -1):\n",
    "        print(' ' * (n - i) + '* ' * i)\n",
    "\n",
    "def pyramid(n):\n",
    "    for i in range(1, n+1):\n",
    "        print(' ' * (n - i) + '* ' * (2*i - 1))\n",
    "\n",
    "# Define the size of the shapes\n",
    "size = 5\n",
    "\n",
    "print(\"Lower Triangular:\")\n",
    "lower_triangular(size)\n",
    "\n",
    "print(\"\\nUpper Triangular:\")\n",
    "upper_triangular(size)\n",
    "\n",
    "print(\"\\nPyramid:\")\n",
    "pyramid(size)\n"
   ]
  },
  {
   "cell_type": "code",
   "execution_count": null,
   "id": "48adf9c0-8215-4a2f-a9a8-10b072332522",
   "metadata": {},
   "outputs": [],
   "source": []
  }
 ],
 "metadata": {
  "kernelspec": {
   "display_name": "Python 3 (ipykernel)",
   "language": "python",
   "name": "python3"
  },
  "language_info": {
   "codemirror_mode": {
    "name": "ipython",
    "version": 3
   },
   "file_extension": ".py",
   "mimetype": "text/x-python",
   "name": "python",
   "nbconvert_exporter": "python",
   "pygments_lexer": "ipython3",
   "version": "3.11.7"
  }
 },
 "nbformat": 4,
 "nbformat_minor": 5
}
